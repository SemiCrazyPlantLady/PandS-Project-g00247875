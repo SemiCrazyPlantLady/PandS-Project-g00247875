{
 "cells": [
  {
   "attachments": {},
   "cell_type": "markdown",
   "metadata": {},
   "source": [
    "# Programming and Scripting Project 2023\n",
    "\n",
    "## Deborah Anne Gormley - g00247875\n",
    "\n",
    "## Project Summary\n",
    "\n",
    "The goal of the project is to explor the Fisher's Iris data set which can be found [here](https://archive.ics.uci.edu/ml/datasets/iris)\n",
    "\n",
    "The Fisher's Iris data set contains 150 rows which describes the dimensions of sepals and petals of 3 different Iris plants (50 rows / plant). The data set is popular in research based on pattern recognition where researchers have been able to use logistic regression, and other machine learning algorithms to accurately predict the class attibute based on the 4 attributes: \n",
    "\n",
    "1. Sepal length (cm) - length of the sepals of the Iris flowers.\n",
    "2. Sepal width (cm) - width of the sepals of the Iris flowers.\n",
    "3. Petal length (cm) - length of the petals of the Iris flowers.\n",
    "4. Petal width (cm) - width of the petals of the Iris flowers.\n",
    "\n",
    "\n",
    "The project will use the Pandas library to load, visualise, create a summary and histogram of the data to explore the dataset and see if patterns can be identified before attempting to use another library to plot the data and predict a class using a simple logistic regression algorithm."
   ]
  },
  {
   "attachments": {},
   "cell_type": "markdown",
   "metadata": {},
   "source": [
    "The data first needs to be loaded before it can be visualised. It can be loaded using the Pandas library.\n",
    "\n",
    "The Pandas library is a useful utility for loading and storing data from sources such as `.csv` and `.data` files. There is a built in function `.read_csv()` which takes the file name and a delimiter as arguements and load the contents into a Pandas dataframe object. There is an optional argument which can add column names to the table More usage information about Pandas can be found on their [api reference](https://pandas.pydata.org/docs/user_guide/io.html#io-read-csv-table) "
   ]
  },
  {
   "cell_type": "code",
   "execution_count": 1,
   "metadata": {},
   "outputs": [
    {
     "name": "stdout",
     "output_type": "stream",
     "text": [
      "   sepal length  sepal width  petal length  petal width        class\n",
      "0           5.1          3.5           1.4          0.2  Iris-setosa\n",
      "1           4.9          3.0           1.4          0.2  Iris-setosa\n",
      "2           4.7          3.2           1.3          0.2  Iris-setosa\n",
      "3           4.6          3.1           1.5          0.2  Iris-setosa\n",
      "4           5.0          3.6           1.4          0.2  Iris-setosa\n"
     ]
    }
   ],
   "source": [
    "# Before we can import pandas we first use 'pip install pandas' in the terminal\n",
    "import pandas as pd\n",
    "\n",
    "# load the data from the .data file into a variable and assign column names for each\n",
    "iris_data = pd.read_csv('./assets/iris.data', delimiter=',', names=['sepal length', 'sepal width', 'petal length', 'petal width', 'class'])\n",
    "\n",
    "# Now we can preview it using the .head() function, it should display the first couple of rows of data\n",
    "print(iris_data.head(5))\n"
   ]
  },
  {
   "attachments": {},
   "cell_type": "markdown",
   "metadata": {},
   "source": [
    "Now that the data is loaded into a dataframe `.describe()` can be called on it to get a summary of the minimum, maximum, mean, standard deviation, the percentiles for each attribute in the dataset (excluding the class)."
   ]
  },
  {
   "cell_type": "code",
   "execution_count": 2,
   "metadata": {},
   "outputs": [
    {
     "name": "stdout",
     "output_type": "stream",
     "text": [
      "       sepal length  sepal width  petal length  petal width\n",
      "count    150.000000   150.000000    150.000000   150.000000\n",
      "mean       5.843333     3.054000      3.758667     1.198667\n",
      "std        0.828066     0.433594      1.764420     0.763161\n",
      "min        4.300000     2.000000      1.000000     0.100000\n",
      "25%        5.100000     2.800000      1.600000     0.300000\n",
      "50%        5.800000     3.000000      4.350000     1.300000\n",
      "75%        6.400000     3.300000      5.100000     1.800000\n",
      "max        7.900000     4.400000      6.900000     2.500000\n"
     ]
    }
   ],
   "source": [
    "# assign the description to a variable\n",
    "iris_data_summary = iris_data.describe()\n",
    "\n",
    "print(iris_data_summary)\n",
    "\n",
    "# after we print it we can also write the information to a filei\n",
    "iris_data_summary.to_csv('./output/iris_ds_summary.txt', header=True)"
   ]
  },
  {
   "attachments": {},
   "cell_type": "markdown",
   "metadata": {},
   "source": [
    "From the summary above the data shows that the petal length and petal width attributes have a wider range of values and higher standard deviations compared to the sepal length and sepal width attributes. The petal length and petal width values indicate that the majority of the values are located towards the lower end of the range.\n",
    "\n",
    "Next to show a histogram pandas also has a funtion `.hist()` which can be used to generate histograms for each attibute in the data set. The histogram will show the shape of the distribution of the dataset. Depending on its shape it will show either the data being skewed left or right, or a bell shape curve if the data is normally distributed. It will also show if there are any outliers or clusters in the data.\n",
    "\n",
    "To be able to show these and write the histogram to a file a library called matplotlib is needed. A handy tool to understand how to use this is their [api reference](https://matplotlib.org/stable/api/index.html) They also provide some nice examples here too!"
   ]
  },
  {
   "cell_type": "code",
   "execution_count": 12,
   "metadata": {},
   "outputs": [
    {
     "data": {
      "image/png": "[encoded data removed]",
      "text/plain": [
       "<Figure size 640x480 with 4 Axes>"
      ]
     },
     "metadata": {},
     "output_type": "display_data"
    }
   ],
   "source": [
    "import matplotlib.pyplot as plt\n",
    "\n",
    "# we can use subplots to add all 4 plots into a single image rather than having to print them individually\n",
    "fig, axs = plt.subplots(2,2)\n",
    "\n",
    "axs[0,0].hist(iris_data['sepal length'], bins=10)\n",
    "axs[0,0].set_title('Sepal Length')\n",
    "axs[0,1].hist(iris_data['sepal width'], bins=10)\n",
    "axs[0,1].set_title('Sepal Width')\n",
    "axs[1,0].hist(iris_data['petal length'], bins=10)\n",
    "axs[1,0].set_title('Petal Length')\n",
    "axs[1,1].hist(iris_data['petal width'], bins=10)\n",
    "axs[1,1].set_title('Petal Width')\n",
    "plt.show()\n",
    "fig.savefig('./output/iris_data_histogram.png')"
   ]
  },
  {
   "attachments": {},
   "cell_type": "markdown",
   "metadata": {},
   "source": [
    "From the above plot it shows normal distribution for the Sepal Length and Width, whereas the Petal Length and width appear to be positively skewed. This confirms what the findings from the summary. Now lets plot the p"
   ]
  },
  {
   "cell_type": "code",
   "execution_count": null,
   "metadata": {},
   "outputs": [],
   "source": []
  }
 ],
 "metadata": {
  "kernelspec": {
   "display_name": "jupyter",
   "language": "python",
   "name": "python3"
  },
  "language_info": {
   "codemirror_mode": {
    "name": "ipython",
    "version": 3
   },
   "file_extension": ".py",
   "mimetype": "text/x-python",
   "name": "python",
   "nbconvert_exporter": "python",
   "pygments_lexer": "ipython3",
   "version": "3.9.16"
  },
  "orig_nbformat": 4
 },
 "nbformat": 4,
 "nbformat_minor": 2
}
