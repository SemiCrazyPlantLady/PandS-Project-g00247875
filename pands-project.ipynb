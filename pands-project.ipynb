{
 "cells": [
  {
   "attachments": {},
   "cell_type": "markdown",
   "metadata": {},
   "source": [
    "# Programming and Scripting Project 2023\n",
    "\n",
    "## Deborah Anne Gormley - g00247875\n",
    "\n",
    "## Project Summary\n",
    "\n",
    "The goal of the project is to explor the Fisher's Iris data set which can be found [here](https://archive.ics.uci.edu/ml/datasets/iris)\n",
    "\n",
    "The Fisher's Iris data set contains 150 rows which describes the dimensions of sepals and petals of 3 different Iris plants (50 rows / plant). The data set is popular in research based on pattern recognition where researchers have been able to use logistic regression, and other machine learning algorithms to accurately predict the class attibute based on the 4 attributes: \n",
    "\n",
    "1. Sepal length (cm)\n",
    "2. Sepal width (cm)\n",
    "3. Petal length (cm)\n",
    "4. Petal width (cm)\n",
    "\n",
    "\n",
    "The project will use some libraries to first visualise the data to explore the dataset using tables and plots and see if patterns can be identified before attempting to predict a class using a simple logistic regression algorithm."
   ]
  },
  {
   "attachments": {},
   "cell_type": "markdown",
   "metadata": {},
   "source": [
    "The data first needs to be loaded before it can be visualised. It can be loaded using the Pandas library.\n",
    "\n",
    "The Pandas library is a useful utility for loading and storing data from sources such as `.csv` and `.data` files. There is a built in function `.read_csv()` which takes the file name and a delimiter as arguements and load the contents into a Pandas dataframe object. There is an optional argument which can add column names to the table More usage information about Pandas can be found on their [api reference](https://pandas.pydata.org/docs/user_guide/io.html#io-read-csv-table) "
   ]
  },
  {
   "cell_type": "code",
   "execution_count": 1,
   "metadata": {},
   "outputs": [
    {
     "name": "stdout",
     "output_type": "stream",
     "text": [
      "   sepal length  sepal width  petal length  petal width        class\n",
      "0           5.1          3.5           1.4          0.2  Iris-setosa\n",
      "1           4.9          3.0           1.4          0.2  Iris-setosa\n",
      "2           4.7          3.2           1.3          0.2  Iris-setosa\n",
      "3           4.6          3.1           1.5          0.2  Iris-setosa\n",
      "4           5.0          3.6           1.4          0.2  Iris-setosa\n"
     ]
    }
   ],
   "source": [
    "# Before we can import pandas we first use 'pip install pandas' in the terminal\n",
    "import pandas as pd\n",
    "\n",
    "# load the data from the .data file into a variable and assign column names for each\n",
    "iris_data = pd.read_csv('./assets/iris.data', delimiter=',', names=['sepal length', 'sepal width', 'petal length', 'petal width', 'class'])\n",
    "\n",
    "# Now we can preview it using the .head() function, it should display the first 5 rows of data\n",
    "print(iris_data.head())\n"
   ]
  },
  {
   "cell_type": "code",
   "execution_count": null,
   "metadata": {},
   "outputs": [],
   "source": []
  }
 ],
 "metadata": {
  "kernelspec": {
   "display_name": "jupyter",
   "language": "python",
   "name": "python3"
  },
  "language_info": {
   "codemirror_mode": {
    "name": "ipython",
    "version": 3
   },
   "file_extension": ".py",
   "mimetype": "text/x-python",
   "name": "python",
   "nbconvert_exporter": "python",
   "pygments_lexer": "ipython3",
   "version": "3.9.16"
  },
  "orig_nbformat": 4
 },
 "nbformat": 4,
 "nbformat_minor": 2
}
